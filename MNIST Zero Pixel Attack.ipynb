{
 "cells": [
  {
   "cell_type": "code",
   "execution_count": 147,
   "metadata": {},
   "outputs": [],
   "source": [
    "import matplotlib.pyplot as plt\n",
    "import numpy as np\n",
    "import scipy.special\n",
    "import copy\n",
    "%matplotlib inline"
   ]
  },
  {
   "cell_type": "code",
   "execution_count": 4,
   "metadata": {},
   "outputs": [],
   "source": [
    "class CNN:\n",
    "    \n",
    "    def __init__(self, input_nodes, hidden_nodes, output_nodes, learningrate):\n",
    "        self.inodes = input_nodes\n",
    "        self.hnodes = hidden_nodes\n",
    "        self.onodes = output_nodes\n",
    "        self.lr = learningrate\n",
    "        \n",
    "        self.wih = np.random.normal(0.0, pow(self.inodes, -0.5), (self.hnodes, self.inodes))\n",
    "        self.who = np.random.normal(0.0, pow(self.hnodes, -0.5), (self.onodes, self.hnodes))\n",
    "        \n",
    "        self.lr = learningrate\n",
    "        self.activation_function = lambda x: scipy.special.expit(x)\n",
    "        \n",
    "    def train(self, inputs_list, target_list):\n",
    "        inputs = np.array(inputs_list, ndmin=2).T\n",
    "        targets = np.array(target_list, ndmin=2).T\n",
    "        \n",
    "        hidden_inputs = np.dot(self.wih, inputs)\n",
    "        hidden_outputs = self.activation_function(hidden_inputs)\n",
    "        \n",
    "        final_inputs = np.dot(self.who, hidden_outputs)\n",
    "        final_outputs = self.activation_function(final_inputs)\n",
    "        \n",
    "        output_errors = targets - final_outputs\n",
    "        hidden_errors = np.dot(self.who.T, output_errors)\n",
    "        \n",
    "        self.who += self.lr * np.dot((output_errors * final_outputs * (1.0-final_outputs)), np.transpose(hidden_outputs))\n",
    "        self.wih += self.lr * np.dot((hidden_errors * hidden_outputs * (1.0-hidden_outputs)), np.transpose(inputs))\n",
    "        \n",
    "        pass\n",
    "        \n",
    "    def query(self, inputs_list):\n",
    "        inputs = np.array(inputs_list, ndmin=2).T\n",
    "        \n",
    "        hidden_inputs = np.dot(self.wih, inputs)\n",
    "        hidden_outputs = self.activation_function(hidden_inputs)\n",
    "        \n",
    "        final_inputs = np.dot(self.who, hidden_outputs)\n",
    "        final_outputs = self.activation_function(final_inputs)\n",
    "        \n",
    "        return final_outputs"
   ]
  },
  {
   "cell_type": "code",
   "execution_count": 5,
   "metadata": {},
   "outputs": [],
   "source": [
    "input_nodes = 784\n",
    "hidden_nodes = 200\n",
    "output_nodes = 10\n",
    "learning_rate = 0.2\n",
    "cnn = CNN(input_nodes, hidden_nodes, output_nodes, learning_rate)\n",
    "\n",
    "#Training Data\n",
    "data_file = open(\"mnist_train.csv\", 'r')\n",
    "data_training_list = data_file.readlines()\n",
    "data_file.close()"
   ]
  },
  {
   "cell_type": "code",
   "execution_count": 6,
   "metadata": {},
   "outputs": [],
   "source": [
    "epochs = 2\n",
    "for e in range(epochs):\n",
    "    for record in data_training_list:\n",
    "        all_values = record.split(',')\n",
    "        inputs = (np.asfarray(all_values[1:])/255.0*0.99)+.01\n",
    "        targets = np.zeros(output_nodes) + 0.01\n",
    "        targets[int(all_values[0])] = 0.99\n",
    "        cnn.train(inputs,targets)\n",
    "        pass\n",
    "    pass"
   ]
  },
  {
   "cell_type": "code",
   "execution_count": 62,
   "metadata": {},
   "outputs": [],
   "source": [
    "test_data_file = open(\"mnist_test.csv\", 'r')\n",
    "test_data_list = test_data_file.readlines()\n",
    "test_data_file.close()"
   ]
  },
  {
   "cell_type": "code",
   "execution_count": 61,
   "metadata": {},
   "outputs": [
    {
     "data": {
      "text/plain": [
       "array([[0.00789725],\n",
       "       [0.99778327],\n",
       "       [0.00240952],\n",
       "       [0.00802721],\n",
       "       [0.05791565],\n",
       "       [0.0217214 ],\n",
       "       [0.00829976],\n",
       "       [0.01122592],\n",
       "       [0.00408788],\n",
       "       [0.0044017 ]])"
      ]
     },
     "execution_count": 61,
     "metadata": {},
     "output_type": "execute_result"
    }
   ],
   "source": [
    "test_data = test_data_list[5]\n",
    "test_data = test_data.split(',')\n",
    "cnn.query((np.asfarray(test_data[1:])/255.0*0.99) + 0.01)"
   ]
  },
  {
   "cell_type": "code",
   "execution_count": 9,
   "metadata": {},
   "outputs": [
    {
     "data": {
      "text/plain": [
       "<matplotlib.image.AxesImage at 0x2667eeb1048>"
      ]
     },
     "execution_count": 9,
     "metadata": {},
     "output_type": "execute_result"
    },
    {
     "data": {
      "image/png": "[encoded data removed]",
      "text/plain": [
       "<Figure size 432x288 with 1 Axes>"
      ]
     },
     "metadata": {},
     "output_type": "display_data"
    }
   ],
   "source": [
    "image_array = np.asfarray(test_data[1:]).reshape((28,28))\n",
    "plt.imshow(image_array, cmap='Greys', interpolation='None')"
   ]
  },
  {
   "cell_type": "code",
   "execution_count": 10,
   "metadata": {},
   "outputs": [],
   "source": [
    "scorecard = []\n",
    "\n",
    "for record in test_data_list:\n",
    "    all_values = record.split(',')\n",
    "    correct_label = int(all_values[0])\n",
    "    inputs = (np.asfarray(all_values[1:]) / 255.0 * 0.99) + 0.01\n",
    "    outputs = cnn.query(inputs)\n",
    "    label = np.argmax(outputs)\n",
    "    if (label == correct_label):\n",
    "        scorecard.append(1)\n",
    "    else:\n",
    "        scorecard.append(0)\n",
    "        pass    \n",
    "    pass"
   ]
  },
  {
   "cell_type": "code",
   "execution_count": 11,
   "metadata": {},
   "outputs": [
    {
     "name": "stdout",
     "output_type": "stream",
     "text": [
      "performance =  0.961\n"
     ]
    }
   ],
   "source": [
    "scorecard_array = np.asarray(scorecard)\n",
    "print (\"performance = \", scorecard_array.sum() / scorecard_array.size)"
   ]
  },
  {
   "cell_type": "code",
   "execution_count": 166,
   "metadata": {},
   "outputs": [],
   "source": [
    "#Begin Zero Pixel Attack using Differential Evolution Algorithm\n",
    "\n",
    "def fobj(mnist, mnist_value):\n",
    "    neural_eval = cnn.query((np.asfarray(mnist)/255.0*0.99) +0.01)\n",
    "    return neural_eval[int(mnist_value)][0]\n",
    "\n",
    "def fobj_whole_array(mnist, mnist_value):\n",
    "    return cnn.query((np.asfarray(mnist)/255.0*0.99) +0.01)\n",
    "\n",
    "#A (poor) implementation of the Differential Evolution Algorithm\n",
    "def diff_evo(mnist, mnist_value, mut=0.8, crossover=0.5, n=784, popsize=20, iterations=100):\n",
    "    #This tuple contains (DATA, CONFIDENCE INTERVALS, INDEXOFPIXEL, GRAYSCALEVALUE)\n",
    "    current_min = (mnist, fobj(mnist, mnist_value), 0,254)\n",
    "    agents = (np.random.rand(popsize)*n).astype(int)\n",
    "    for j in range(iterations):\n",
    "        for i in range(len(agents)):\n",
    "            selection = np.random.choice(agents, 3, replace=False)\n",
    "            while agents[i] in selection:\n",
    "                selection = np.random.choice(agents,3,replace=False)\n",
    "            random_index = np.random.choice(n,1)[0]\n",
    "            uniform_loc = np.random.rand(1)[0]\n",
    "            if uniform_loc < crossover or uniform_loc == random_index:\n",
    "                y_i = selection[0] + mut * (selection[1]-selection[2])\n",
    "            else:\n",
    "                y_i = agents[i]\n",
    "            if y_i > 783:\n",
    "                y_i = 783\n",
    "            if y_i < 0:\n",
    "                y_i = 1\n",
    "            temp_mnist = copy.copy(mnist)\n",
    "            try:\n",
    "                temp_mnist[y_i.astype(int)] = 254\n",
    "            except:\n",
    "                temp_mnist[y_i] = 254\n",
    "            if fobj(temp_mnist,mnist_value) < current_min[1]:\n",
    "                agents[i] = y_i\n",
    "                current_min = (temp_mnist, fobj(temp_mnist, mnist_value), y_i,254)\n",
    "                #gray_scale_min = diff_evo_color(current_min, temp_mnist,mnist_value,y_i)\n",
    "                #if gray_scale_min[1] < current_min[1]:\n",
    "                    #current_min = gray_scale_min\n",
    "    return current_min\n",
    "\n",
    "\n",
    "#This tests if changing the grey-scale of the pixel will have any affect.\n",
    "#This has no effect but why not try the thought.\n",
    "def diff_evo_color(current_min,mnist, mnist_value, index, mut=0.8, crossover=0.5, n=254, popsize=15, iterations=100):\n",
    "    agents = (np.random.rand(popsize)*254).astype(int)\n",
    "    try:\n",
    "        index = index.astype(int)\n",
    "    except AttributeError as e:\n",
    "        index = int(index)\n",
    "    for j in range(iterations):\n",
    "        for i in range(len(agents)):\n",
    "            selection = np.random.choice(agents, 3, replace=False)\n",
    "            while agents[i] in selection:\n",
    "                selection = np.random.choice(agents, 3, replace=False)\n",
    "            random_index = np.random.choice(255,1)[0]\n",
    "            uniform_loc = np.random.rand(1)[0]\n",
    "            if uniform_loc <  crossover or uniform_loc == random_index:\n",
    "                y_i = selection[0] + mut * (selection[1] - selection[2])\n",
    "            else:\n",
    "                y_i = agents[i]\n",
    "            if y_i > n-1:\n",
    "                y_i = 254\n",
    "            if y_i < 0:\n",
    "                y_i = 1\n",
    "            temp_mnist = copy.copy(mnist)\n",
    "            temp_mnist[index] = y_i\n",
    "            if fobj(temp_mnist, mnist_value) < current_min[1]:\n",
    "                current_min = (temp_mnist, fobj(temp_mnist, mnist_value), index, y_i)\n",
    "    return current_min\n",
    "            \n",
    "        "
   ]
  },
  {
   "cell_type": "code",
   "execution_count": 167,
   "metadata": {},
   "outputs": [],
   "source": [
    "test_data = test_data_list[4011]\n",
    "test_data = test_data.split(',')\n",
    "\n",
    "test = diff_evo(test_data[1:], test_data[0])"
   ]
  },
  {
   "cell_type": "code",
   "execution_count": 168,
   "metadata": {},
   "outputs": [
    {
     "name": "stdout",
     "output_type": "stream",
     "text": [
      "0.6779042291530472\n",
      "681.6\n",
      "(0.6779042291530472, 681.6, 254)\n"
     ]
    }
   ],
   "source": [
    "print(test[1])\n",
    "print(test[2])\n",
    "print(test[1:])"
   ]
  },
  {
   "cell_type": "code",
   "execution_count": 169,
   "metadata": {},
   "outputs": [
    {
     "name": "stdout",
     "output_type": "stream",
     "text": [
      "Neural Net:\n",
      "[[0.02418735]\n",
      " [0.00738756]\n",
      " [0.01970811]\n",
      " [0.13263266]\n",
      " [0.01527893]\n",
      " [0.12761139]\n",
      " [0.01386667]\n",
      " [0.00267136]\n",
      " [0.79924547]\n",
      " [0.02591004]]\n",
      "Zero pixel attack:\n",
      "[[0.02324934]\n",
      " [0.007029  ]\n",
      " [0.01752422]\n",
      " [0.18608043]\n",
      " [0.01440937]\n",
      " [0.16908909]\n",
      " [0.01070754]\n",
      " [0.00201414]\n",
      " [0.67790423]\n",
      " [0.02943128]]\n"
     ]
    }
   ],
   "source": [
    "temp_mnist = test_data[1:]\n",
    "temp_mnist[int(test[2])] = 254\n",
    "print(\"Neural Net:\\n{}\".format(fobj_whole_array(test_data[1:], test_data[0])))\n",
    "print(\"Zero pixel attack:\\n{}\".format(fobj_whole_array(temp_mnist, test_data[0])))"
   ]
  },
  {
   "cell_type": "code",
   "execution_count": 170,
   "metadata": {},
   "outputs": [
    {
     "data": {
      "text/plain": [
       "<matplotlib.image.AxesImage at 0x2660319dc18>"
      ]
     },
     "execution_count": 170,
     "metadata": {},
     "output_type": "execute_result"
    },
    {
     "data": {
      "image/png": "[encoded data removed]",
      "text/plain": [
       "<Figure size 432x288 with 1 Axes>"
      ]
     },
     "metadata": {},
     "output_type": "display_data"
    }
   ],
   "source": [
    "image_array = np.asfarray(temp_mnist).reshape((28,28))\n",
    "plt.imshow(image_array, cmap='Greys', interpolation='None')"
   ]
  },
  {
   "cell_type": "code",
   "execution_count": 171,
   "metadata": {},
   "outputs": [
    {
     "name": "stdout",
     "output_type": "stream",
     "text": [
      "0.12134124283360492\n"
     ]
    }
   ],
   "source": [
    "#How much a single pixel can change the confidence interval by.\n",
    "print(fobj(test_data[1:],test_data[0]) - fobj(temp_mnist,test_data[0]))"
   ]
  },
  {
   "cell_type": "code",
   "execution_count": 193,
   "metadata": {},
   "outputs": [],
   "source": [
    "zero_diff = []\n",
    "test_results = []\n",
    "\n",
    "for n in range(len(test_data_list)):\n",
    "    record = test_data_list[n]\n",
    "    values = record.split(',')\n",
    "    correct_label = int(values[0])\n",
    "    inputs = (np.asfarray(values[1:]) / 255.0 * 0.99) + 0.01\n",
    "    cnn_result = cnn.query(inputs)\n",
    "    cnn_result = cnn_result[correct_label][0]\n",
    "    zero_pixel = diff_evo(values[1:], values[0])\n",
    "    zero_pixel_result = zero_pixel[1]\n",
    "    diff = (cnn_result - zero_pixel_result)\n",
    "    zero_diff.append((correct_label, diff))\n",
    "    test_results.append((n,diff,cnn_result,zero_pixel[1:]))   \n",
    "    "
   ]
  },
  {
   "cell_type": "code",
   "execution_count": 194,
   "metadata": {},
   "outputs": [
    {
     "data": {
      "text/plain": [
       "<matplotlib.collections.PathCollection at 0x2660367b198>"
      ]
     },
     "execution_count": 194,
     "metadata": {},
     "output_type": "execute_result"
    },
    {
     "data": {
      "image/png": "[encoded data removed]",
      "text/plain": [
       "<Figure size 432x288 with 1 Axes>"
      ]
     },
     "metadata": {},
     "output_type": "display_data"
    }
   ],
   "source": [
    "plt.scatter(*zip(*zero_diff))\n"
   ]
  },
  {
   "cell_type": "code",
   "execution_count": 195,
   "metadata": {},
   "outputs": [
    {
     "name": "stdout",
     "output_type": "stream",
     "text": [
      "0.5097855026883584\n",
      "2645\n"
     ]
    }
   ],
   "source": [
    "curr_max = test_results[0][1]\n",
    "max_index = 0\n",
    "for i in range(1,len(test_results)):\n",
    "    #curr_max = np.maximum(curr_max, test_results[i][1])\n",
    "    if curr_max < test_results[i][1]:\n",
    "        curr_max = test_results[i][1]\n",
    "        max_index = i\n",
    "print(curr_max)\n",
    "print(max_index)"
   ]
  },
  {
   "cell_type": "code",
   "execution_count": 190,
   "metadata": {},
   "outputs": [],
   "source": [
    "def print_image(index):\n",
    "    test_data = test_data_list[index]\n",
    "    test_data = test_data.split(',')\n",
    "    temp_mnist = test_data[1:]\n",
    "    temp_mnist[int(test_results[0][3][1])] = 254\n",
    "    print(\"Confidence Interval weakened by: \",zero_diff[index][1])\n",
    "    image_array = np.asfarray(temp_mnist).reshape((28,28))\n",
    "    plt.imshow(image_array, cmap='Greys', interpolation='None')"
   ]
  },
  {
   "cell_type": "code",
   "execution_count": 201,
   "metadata": {},
   "outputs": [
    {
     "name": "stdout",
     "output_type": "stream",
     "text": [
      "Confidence Interval weakened by:  0.5097855026883584\n"
     ]
    },
    {
     "data": {
      "image/png": "[encoded data removed]",
      "text/plain": [
       "<Figure size 432x288 with 1 Axes>"
      ]
     },
     "metadata": {},
     "output_type": "display_data"
    }
   ],
   "source": [
    "print(\"Confidence Interval weakened by: \",zero_diff[2645][1])\n",
    "print_image(2645)"
   ]
  },
  {
   "cell_type": "code",
   "execution_count": 202,
   "metadata": {
    "scrolled": true
   },
   "outputs": [
    {
     "name": "stdout",
     "output_type": "stream",
     "text": [
      "Confidence Interval weakened by:  0.0022226568347525344\n"
     ]
    },
    {
     "data": {
      "image/png": "[encoded data removed]",
      "text/plain": [
       "<Figure size 432x288 with 1 Axes>"
      ]
     },
     "metadata": {},
     "output_type": "display_data"
    }
   ],
   "source": [
    "print(\"Confidence Interval weakened by: \",zero_diff[5000][1])\n",
    "print_image(5000)"
   ]
  },
  {
   "cell_type": "code",
   "execution_count": 203,
   "metadata": {
    "scrolled": true
   },
   "outputs": [
    {
     "name": "stdout",
     "output_type": "stream",
     "text": [
      "Confidence Interval weakened by:  0.0032253900028179627\n"
     ]
    },
    {
     "data": {
      "image/png": "[encoded data removed]",
      "text/plain": [
       "<Figure size 432x288 with 1 Axes>"
      ]
     },
     "metadata": {},
     "output_type": "display_data"
    }
   ],
   "source": [
    "print(\"Confidence Interval weakened by: \",zero_diff[7500][1])\n",
    "print_image(7500)"
   ]
  },
  {
   "cell_type": "code",
   "execution_count": 204,
   "metadata": {},
   "outputs": [
    {
     "name": "stdout",
     "output_type": "stream",
     "text": [
      "Confidence Interval weakened by:  0.0005051808201713692\n"
     ]
    },
    {
     "data": {
      "image/png": "[encoded data removed]",
      "text/plain": [
       "<Figure size 432x288 with 1 Axes>"
      ]
     },
     "metadata": {},
     "output_type": "display_data"
    }
   ],
   "source": [
    "print(\"Confidence Interval weakened by: \",zero_diff[9999][1])\n",
    "print_image(9999)"
   ]
  },
  {
   "cell_type": "code",
   "execution_count": 205,
   "metadata": {},
   "outputs": [
    {
     "name": "stdout",
     "output_type": "stream",
     "text": [
      "Confidence Interval weakened by:  0.0505044822602434\n"
     ]
    },
    {
     "data": {
      "image/png": "[encoded data removed]",
      "text/plain": [
       "<Figure size 432x288 with 1 Axes>"
      ]
     },
     "metadata": {},
     "output_type": "display_data"
    }
   ],
   "source": [
    "print(\"Confidence Interval weakened by: \",zero_diff[15][1])\n",
    "print_image(15)"
   ]
  },
  {
   "cell_type": "code",
   "execution_count": 206,
   "metadata": {},
   "outputs": [
    {
     "name": "stdout",
     "output_type": "stream",
     "text": [
      "Confidence Interval weakened by:  0.1188464590075412\n"
     ]
    },
    {
     "data": {
      "image/png": "[encoded data removed]",
      "text/plain": [
       "<Figure size 432x288 with 1 Axes>"
      ]
     },
     "metadata": {},
     "output_type": "display_data"
    }
   ],
   "source": [
    "print(\"Confidence Interval weakened by: \",zero_diff[1111][1])\n",
    "print_image(1111)"
   ]
  },
  {
   "cell_type": "markdown",
   "metadata": {},
   "source": [
    "As this MNIST data set is pretty simple, the max value we were able to lower the confidence interval was about 0.510. From the scatter plot, we can see that certain numbers (0,1,8) are most robust against a zero-pixel attack. This method would be a good way of robustness testing a CNN for classifying images. It will help pinpoint certain classifiers that may need more training to be entirely effective (4,5,7)."
   ]
  }
 ],
 "metadata": {
  "kernelspec": {
   "display_name": "Python 3",
   "language": "python",
   "name": "python3"
  },
  "language_info": {
   "codemirror_mode": {
    "name": "ipython",
    "version": 3
   },
   "file_extension": ".py",
   "mimetype": "text/x-python",
   "name": "python",
   "nbconvert_exporter": "python",
   "pygments_lexer": "ipython3",
   "version": "3.6.5"
  }
 },
 "nbformat": 4,
 "nbformat_minor": 2
}
