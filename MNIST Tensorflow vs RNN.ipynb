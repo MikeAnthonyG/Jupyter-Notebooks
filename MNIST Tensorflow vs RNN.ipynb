{
 "cells": [
  {
   "cell_type": "code",
   "execution_count": 5,
   "metadata": {},
   "outputs": [],
   "source": [
    "import matplotlib.pyplot as plt\n",
    "import numpy as np\n",
    "import scipy.special\n",
    "import copy\n",
    "import tensorflow as tf\n",
    "import warnings\n",
    "import time\n",
    "import pandas as pd\n",
    "warnings.filterwarnings('ignore')\n",
    "%matplotlib inline"
   ]
  },
  {
   "cell_type": "code",
   "execution_count": 4,
   "metadata": {},
   "outputs": [],
   "source": [
    "class CNN:    \n",
    "    def __init__(self, input_nodes, hidden_nodes, output_nodes, learningrate):\n",
    "        self.inodes = input_nodes\n",
    "        self.hnodes = hidden_nodes\n",
    "        self.onodes = output_nodes\n",
    "        self.lr = learningrate\n",
    "        \n",
    "        self.wih = np.random.normal(0.0, pow(self.inodes, -0.5), (self.hnodes, self.inodes))\n",
    "        self.who = np.random.normal(0.0, pow(self.hnodes, -0.5), (self.onodes, self.hnodes))\n",
    "        \n",
    "        self.lr = learningrate\n",
    "        self.activation_function = lambda x: scipy.special.expit(x)\n",
    "        \n",
    "    def train(self, inputs_list, target_list):\n",
    "        inputs = np.array(inputs_list, ndmin=2).T\n",
    "        targets = np.array(target_list, ndmin=2).T\n",
    "        \n",
    "        hidden_inputs = np.dot(self.wih, inputs)\n",
    "        hidden_outputs = self.activation_function(hidden_inputs)\n",
    "        \n",
    "        final_inputs = np.dot(self.who, hidden_outputs)\n",
    "        final_outputs = self.activation_function(final_inputs)\n",
    "        \n",
    "        output_errors = targets - final_outputs\n",
    "        hidden_errors = np.dot(self.who.T, output_errors)\n",
    "        \n",
    "        self.who += self.lr * np.dot((output_errors * final_outputs * (1.0-final_outputs)), np.transpose(hidden_outputs))\n",
    "        self.wih += self.lr * np.dot((hidden_errors * hidden_outputs * (1.0-hidden_outputs)), np.transpose(inputs))\n",
    "        \n",
    "        pass\n",
    "        \n",
    "    def query(self, inputs_list):\n",
    "        inputs = np.array(inputs_list, ndmin=2).T\n",
    "        \n",
    "        hidden_inputs = np.dot(self.wih, inputs)\n",
    "        hidden_outputs = self.activation_function(hidden_inputs)\n",
    "        \n",
    "        final_inputs = np.dot(self.who, hidden_outputs)\n",
    "        final_outputs = self.activation_function(final_inputs)\n",
    "        \n",
    "        return final_outputs"
   ]
  },
  {
   "cell_type": "code",
   "execution_count": 12,
   "metadata": {},
   "outputs": [
    {
     "name": "stdout",
     "output_type": "stream",
     "text": [
      "Time to completion: 188.00405263900757\n"
     ]
    }
   ],
   "source": [
    "input_nodes = 784\n",
    "hidden_nodes = 200\n",
    "output_nodes = 10\n",
    "learning_rate = 0.2\n",
    "cnn = CNN(input_nodes, hidden_nodes, output_nodes, learning_rate)\n",
    "\n",
    "#Training Data\n",
    "data_file = open(\"mnist_train.csv\", 'r')\n",
    "data_training_list = data_file.readlines()\n",
    "data_file.close()\n",
    "\n",
    "start = time.time()\n",
    "epochs = 2\n",
    "for e in range(epochs):\n",
    "    for record in data_training_list:\n",
    "        all_values = record.split(',')\n",
    "        inputs = (np.asfarray(all_values[1:])/255.0*0.99)+.01\n",
    "        targets = np.zeros(output_nodes) + 0.01\n",
    "        targets[int(all_values[0])] = 0.99\n",
    "        cnn.train(inputs,targets)\n",
    "        pass\n",
    "    pass\n",
    "end = time.time()\n",
    "print(\"Time to completion: {}\".format(end-start))"
   ]
  },
  {
   "cell_type": "code",
   "execution_count": 13,
   "metadata": {},
   "outputs": [
    {
     "name": "stdout",
     "output_type": "stream",
     "text": [
      "performance =  0.9662\n"
     ]
    }
   ],
   "source": [
    "test_data_file = open(\"mnist_test.csv\", 'r')\n",
    "test_data_list = test_data_file.readlines()\n",
    "test_data_file.close()\n",
    "\n",
    "scorecard = []\n",
    "\n",
    "for record in test_data_list:\n",
    "    all_values = record.split(',')\n",
    "    correct_label = int(all_values[0])\n",
    "    inputs = (np.asfarray(all_values[1:]) / 255.0 * 0.99) + 0.01\n",
    "    outputs = cnn.query(inputs)\n",
    "    label = np.argmax(outputs)\n",
    "    if (label == correct_label):\n",
    "        scorecard.append(1)\n",
    "    else:\n",
    "        scorecard.append(0)\n",
    "        pass    \n",
    "    pass\n",
    "\n",
    "scorecard_array = np.asarray(scorecard)\n",
    "print (\"performance = \", scorecard_array.sum() / scorecard_array.size)"
   ]
  },
  {
   "cell_type": "code",
   "execution_count": 62,
   "metadata": {},
   "outputs": [],
   "source": [
    "#Tensorflow \n",
    "input_nodes = 784\n",
    "hidden_nodes = 200\n",
    "output_nodes = 10\n",
    "learning_rate = 0.2\n",
    "network_input= tf.placeholder(tf.float32, [None, input_nodes])\n",
    "target_output = tf.placeholder(tf.float32, [None,output_nodes])\n",
    "\n",
    "hidden_layer = tf.Variable(tf.random_normal([784, hidden_nodes]))\n",
    "out_layer = tf.Variable(tf.random_normal([hidden_nodes, output_nodes]))\n",
    "\n",
    "hidden_output = tf.nn.sigmoid(tf.matmul(network_input,hidden_layer))\n",
    "total_output = tf.nn.sigmoid(tf.matmul(hidden_output,out_layer))\n",
    "\n",
    "cost_function = tf.reduce_mean(tf.nn.softmax_cross_entropy_with_logits_v2(logits=total_output,labels=target_output))\n",
    "training_step = tf.train.GradientDescentOptimizer(learning_rate).minimize(cost_function)\n",
    "\n",
    "init = tf.global_variables_initializer()"
   ]
  },
  {
   "cell_type": "code",
   "execution_count": 76,
   "metadata": {},
   "outputs": [
    {
     "name": "stdout",
     "output_type": "stream",
     "text": [
      "Time to completion: 84.97453808784485\n"
     ]
    }
   ],
   "source": [
    "csv = pd.read_csv(\"mnist_train.csv\").values\n",
    "sess = tf.Session()\n",
    "sess.run(init)\n",
    "start = time.time()\n",
    "for epoch in range(2):\n",
    "    for row in csv:\n",
    "        inputs = (np.asfarray(row[1:]) / 255.0 * 0.99) + 0.01\n",
    "        inputs = np.expand_dims(inputs, axis=0)\n",
    "        label = np.zeros(output_nodes) + 0.01\n",
    "        label[int(row[0])] = 0.99\n",
    "        label = np.expand_dims(label, axis=0)\n",
    "        features, label = inputs, label\n",
    "        sess.run(training_step, feed_dict={network_input: features, target_output: label})\n",
    "end = time.time()\n",
    "print(\"Time to completion: {}\".format(end-start)) "
   ]
  },
  {
   "cell_type": "code",
   "execution_count": 77,
   "metadata": {},
   "outputs": [
    {
     "name": "stdout",
     "output_type": "stream",
     "text": [
      "performance =  0.933993399339934\n"
     ]
    }
   ],
   "source": [
    "test_csv = pd.read_csv(\"mnist_test.csv\").values\n",
    "prediction = tf.argmax(total_output, 1)\n",
    "num_correct = 0\n",
    "for row in test_csv:\n",
    "    inputs = (np.asfarray(row[1:])/255.0*0.99) + .01\n",
    "    inputs = np.expand_dims(inputs, axis=0)\n",
    "    label = int(row[0])\n",
    "    label = np.expand_dims(label, axis=0)\n",
    "    x = prediction.eval(feed_dict={network_input: inputs}, session=sess)\n",
    "    if x[0] == label:\n",
    "        num_correct += 1\n",
    "total = num_correct/ len(test_csv)\n",
    "print(\"performance = \", total)"
   ]
  }
 ],
 "metadata": {
  "kernelspec": {
   "display_name": "Python 3",
   "language": "python",
   "name": "python3"
  },
  "language_info": {
   "codemirror_mode": {
    "name": "ipython",
    "version": 3
   },
   "file_extension": ".py",
   "mimetype": "text/x-python",
   "name": "python",
   "nbconvert_exporter": "python",
   "pygments_lexer": "ipython3",
   "version": "3.6.5"
  }
 },
 "nbformat": 4,
 "nbformat_minor": 2
}
